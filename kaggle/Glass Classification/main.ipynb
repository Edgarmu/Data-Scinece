{
 "cells": [
  {
   "cell_type": "code",
   "execution_count": 3,
   "id": "0d711a54",
   "metadata": {},
   "outputs": [
    {
     "name": "stdout",
     "output_type": "stream",
     "text": [
      "Requirement already satisfied: mlxtend in /Users/edgar/.venvs/myenv/lib/python3.12/site-packages (0.23.4)\n",
      "Requirement already satisfied: scipy>=1.2.1 in /Users/edgar/.venvs/myenv/lib/python3.12/site-packages (from mlxtend) (1.13.1)\n",
      "Requirement already satisfied: numpy>=1.16.2 in /Users/edgar/.venvs/myenv/lib/python3.12/site-packages (from mlxtend) (1.26.4)\n",
      "Requirement already satisfied: pandas>=0.24.2 in /Users/edgar/.venvs/myenv/lib/python3.12/site-packages (from mlxtend) (2.2.3)\n",
      "Requirement already satisfied: scikit-learn>=1.3.1 in /Users/edgar/.venvs/myenv/lib/python3.12/site-packages (from mlxtend) (1.5.0)\n",
      "Requirement already satisfied: matplotlib>=3.0.0 in /Users/edgar/.venvs/myenv/lib/python3.12/site-packages (from mlxtend) (3.9.0)\n",
      "Requirement already satisfied: joblib>=0.13.2 in /Users/edgar/.venvs/myenv/lib/python3.12/site-packages (from mlxtend) (1.4.2)\n",
      "Requirement already satisfied: contourpy>=1.0.1 in /Users/edgar/.venvs/myenv/lib/python3.12/site-packages (from matplotlib>=3.0.0->mlxtend) (1.2.1)\n",
      "Requirement already satisfied: cycler>=0.10 in /Users/edgar/.venvs/myenv/lib/python3.12/site-packages (from matplotlib>=3.0.0->mlxtend) (0.12.1)\n",
      "Requirement already satisfied: fonttools>=4.22.0 in /Users/edgar/.venvs/myenv/lib/python3.12/site-packages (from matplotlib>=3.0.0->mlxtend) (4.53.0)\n",
      "Requirement already satisfied: kiwisolver>=1.3.1 in /Users/edgar/.venvs/myenv/lib/python3.12/site-packages (from matplotlib>=3.0.0->mlxtend) (1.4.5)\n",
      "Requirement already satisfied: packaging>=20.0 in /Users/edgar/.venvs/myenv/lib/python3.12/site-packages (from matplotlib>=3.0.0->mlxtend) (24.0)\n",
      "Requirement already satisfied: pillow>=8 in /Users/edgar/.venvs/myenv/lib/python3.12/site-packages (from matplotlib>=3.0.0->mlxtend) (10.3.0)\n",
      "Requirement already satisfied: pyparsing>=2.3.1 in /Users/edgar/.venvs/myenv/lib/python3.12/site-packages (from matplotlib>=3.0.0->mlxtend) (3.1.2)\n",
      "Requirement already satisfied: python-dateutil>=2.7 in /Users/edgar/.venvs/myenv/lib/python3.12/site-packages (from matplotlib>=3.0.0->mlxtend) (2.9.0.post0)\n",
      "Requirement already satisfied: pytz>=2020.1 in /Users/edgar/.venvs/myenv/lib/python3.12/site-packages (from pandas>=0.24.2->mlxtend) (2024.1)\n",
      "Requirement already satisfied: tzdata>=2022.7 in /Users/edgar/.venvs/myenv/lib/python3.12/site-packages (from pandas>=0.24.2->mlxtend) (2024.1)\n",
      "Requirement already satisfied: threadpoolctl>=3.1.0 in /Users/edgar/.venvs/myenv/lib/python3.12/site-packages (from scikit-learn>=1.3.1->mlxtend) (3.5.0)\n",
      "Requirement already satisfied: six>=1.5 in /Users/edgar/.venvs/myenv/lib/python3.12/site-packages (from python-dateutil>=2.7->matplotlib>=3.0.0->mlxtend) (1.16.0)\n",
      "\n",
      "\u001b[1m[\u001b[0m\u001b[34;49mnotice\u001b[0m\u001b[1;39;49m]\u001b[0m\u001b[39;49m A new release of pip is available: \u001b[0m\u001b[31;49m23.2.1\u001b[0m\u001b[39;49m -> \u001b[0m\u001b[32;49m25.0.1\u001b[0m\n",
      "\u001b[1m[\u001b[0m\u001b[34;49mnotice\u001b[0m\u001b[1;39;49m]\u001b[0m\u001b[39;49m To update, run: \u001b[0m\u001b[32;49mpip install --upgrade pip\u001b[0m\n"
     ]
    }
   ],
   "source": [
    "!pip3 install mlxtend"
   ]
  },
  {
   "cell_type": "code",
   "execution_count": 15,
   "id": "79186fef",
   "metadata": {},
   "outputs": [],
   "source": [
    "import os\n",
    "import numpy as np\n",
    "import pandas as pd\n",
    "import matplotlib.pyplot as plt\n",
    "from sklearn.datasets import load_diabetes\n",
    "from sklearn.preprocessing import LabelEncoder\n",
    "from sklearn.metrics import accuracy_score, mean_absolute_percentage_error\n",
    "from sklearn.model_selection import train_test_split, cross_val_predict\n",
    "from sklearn.svm import SVC\n",
    "from sklearn.linear_model import RidgeCV, LogisticRegression\n",
    "from sklearn.ensemble import StackingClassifier, StackingRegressor\n",
    "from sklearn.ensemble import RandomForestClassifier, RandomForestRegressor\n",
    "from sklearn.ensemble import GradientBoostingClassifier, GradientBoostingRegressor\n",
    "from joblib import Parallel, delayed\n",
    "from mlxtend.plotting import plot_decision_regions"
   ]
  },
  {
   "cell_type": "code",
   "execution_count": 5,
   "id": "ff44eee2",
   "metadata": {},
   "outputs": [],
   "source": [
    "class Stacking:\n",
    "    def __init__(self, estimators, final_estimator, blending=False, cv=5, n_jobs=-1):\n",
    "        self.estimators = estimators\n",
    "        self.final_estimator = final_estimator\n",
    "        self.blending = blending\n",
    "        self.cv = cv\n",
    "        self.n_jobs = n_jobs\n",
    "\n",
    "    def _X_pred(self, estimator, data):\n",
    "        if self.blending:\n",
    "            X_train_v, y_train_v, X_val = data\n",
    "            return estimator.fit(X_train_v, y_train_v).predict(X_val)\n",
    "        else:\n",
    "            X_train, y_train = data\n",
    "            return cross_val_predict(estimator, X_train, y_train, cv=self.cv)\n",
    "\n",
    "    def _X_test_pred(self, estimator, data):\n",
    "        X_train, y_train, X_test = data\n",
    "\n",
    "        return estimator.fit(X_train, y_train).predict(X_test)\n",
    "\n",
    "    def _meta_data(self, X_train, y_train, X_test):\n",
    "        if self.blending:\n",
    "            #used hold-out cross-validation\n",
    "            X_train_v, X_val, y_train_v, y_val = train_test_split(X_train, y_train, random_state=0)\n",
    "            train_data = [X_train_v, y_train_v, X_val]\n",
    "            test_data = [X_train_v, y_train_v, X_test]\n",
    "            meta_y_train = y_val\n",
    "        else:\n",
    "            train_data = [X_train, y_train]\n",
    "            test_data = [X_train, y_train, X_test]\n",
    "            meta_y_train = y_train\n",
    "\n",
    "        cv_X_train_preds = (delayed(self._X_pred)(est, train_data) for est in self.estimators)\n",
    "        X_test_preds = (delayed(self._X_test_pred)(est, test_data) for est in self.estimators)\n",
    "\n",
    "        meta_X_train = pd.DataFrame(Parallel(n_jobs=self.n_jobs)(cv_X_train_preds))\n",
    "        meta_X_test = pd.DataFrame(Parallel(n_jobs=self.n_jobs)(X_test_preds))\n",
    "\n",
    "        return meta_X_train.T, meta_y_train, meta_X_test.T\n",
    "\n",
    "    def fit_predict(self, X_train, y_train, X_test):\n",
    "        # meta learner or blender\n",
    "        meta_X_train, meta_y_train, meta_X_test = self._meta_data(X_train, y_train, X_test)\n",
    "\n",
    "        return self.final_estimator.fit(meta_X_train, meta_y_train).predict(meta_X_test)"
   ]
  },
  {
   "cell_type": "code",
   "execution_count": 6,
   "id": "9fc789e9",
   "metadata": {},
   "outputs": [],
   "source": [
    "def decision_boundary_plot(X, y, X_train, y_train, clf, feature_indexes, title=None):\n",
    "    feature1_name, feature2_name = X.columns[feature_indexes]\n",
    "    X_feature_columns = X.values[:, feature_indexes]\n",
    "    X_train_feature_columns = X_train.values[:, feature_indexes]\n",
    "    clf.fit(X_train_feature_columns, y_train.values)\n",
    "\n",
    "    plot_decision_regions(X=X_feature_columns, y=y.values, clf=clf)\n",
    "    plt.xlabel(feature1_name)\n",
    "    plt.ylabel(feature2_name)\n",
    "    plt.title(title)"
   ]
  },
  {
   "cell_type": "code",
   "execution_count": null,
   "id": "b423b2dd",
   "metadata": {},
   "outputs": [
    {
     "name": "stdout",
     "output_type": "stream",
     "text": [
      "/Users/edgar/Documents/python/Data-Scinece/kaggle/Glass Classification\n",
      "          RI     Na    Mg    Al     Si     K    Ca    Ba   Fe  Type\n",
      "0    1.52101  13.64  4.49  1.10  71.78  0.06  8.75  0.00  0.0     1\n",
      "1    1.51761  13.89  3.60  1.36  72.73  0.48  7.83  0.00  0.0     1\n",
      "2    1.51618  13.53  3.55  1.54  72.99  0.39  7.78  0.00  0.0     1\n",
      "3    1.51766  13.21  3.69  1.29  72.61  0.57  8.22  0.00  0.0     1\n",
      "4    1.51742  13.27  3.62  1.24  73.08  0.55  8.07  0.00  0.0     1\n",
      "..       ...    ...   ...   ...    ...   ...   ...   ...  ...   ...\n",
      "209  1.51623  14.14  0.00  2.88  72.61  0.08  9.18  1.06  0.0     7\n",
      "210  1.51685  14.92  0.00  1.99  73.06  0.00  8.40  1.59  0.0     7\n",
      "211  1.52065  14.36  0.00  2.02  73.42  0.00  8.44  1.64  0.0     7\n",
      "212  1.51651  14.38  0.00  1.94  73.61  0.00  8.48  1.57  0.0     7\n",
      "213  1.51711  14.23  0.00  2.08  73.36  0.00  8.62  1.67  0.0     7\n",
      "\n",
      "[214 rows x 10 columns]\n"
     ]
    }
   ],
   "source": [
    "glass_df = pd.read_csv(\"glass.csv\")\n",
    "X1, y1 = glass_df.iloc[:, :-1], glass_df.iloc[:, -1]\n",
    "y1 = pd.Series(LabelEncoder().fit_transform(y1))\n",
    "X1_train, X1_test, y1_train, y1_test = train_test_split(X1, y1, random_state=0)"
   ]
  },
  {
   "cell_type": "code",
   "execution_count": 25,
   "id": "a4af6e0c",
   "metadata": {},
   "outputs": [
    {
     "name": "stdout",
     "output_type": "stream",
     "text": [
      "          age       sex       bmi        bp        s1        s2        s3  \\\n",
      "0    0.038076  0.050680  0.061696  0.021872 -0.044223 -0.034821 -0.043401   \n",
      "1   -0.001882 -0.044642 -0.051474 -0.026328 -0.008449 -0.019163  0.074412   \n",
      "2    0.085299  0.050680  0.044451 -0.005670 -0.045599 -0.034194 -0.032356   \n",
      "3   -0.089063 -0.044642 -0.011595 -0.036656  0.012191  0.024991 -0.036038   \n",
      "4    0.005383 -0.044642 -0.036385  0.021872  0.003935  0.015596  0.008142   \n",
      "..        ...       ...       ...       ...       ...       ...       ...   \n",
      "437  0.041708  0.050680  0.019662  0.059744 -0.005697 -0.002566 -0.028674   \n",
      "438 -0.005515  0.050680 -0.015906 -0.067642  0.049341  0.079165 -0.028674   \n",
      "439  0.041708  0.050680 -0.015906  0.017293 -0.037344 -0.013840 -0.024993   \n",
      "440 -0.045472 -0.044642  0.039062  0.001215  0.016318  0.015283 -0.028674   \n",
      "441 -0.045472 -0.044642 -0.073030 -0.081413  0.083740  0.027809  0.173816   \n",
      "\n",
      "           s4        s5        s6  \n",
      "0   -0.002592  0.019907 -0.017646  \n",
      "1   -0.039493 -0.068332 -0.092204  \n",
      "2   -0.002592  0.002861 -0.025930  \n",
      "3    0.034309  0.022688 -0.009362  \n",
      "4   -0.002592 -0.031988 -0.046641  \n",
      "..        ...       ...       ...  \n",
      "437 -0.002592  0.031193  0.007207  \n",
      "438  0.034309 -0.018114  0.044485  \n",
      "439 -0.011080 -0.046883  0.015491  \n",
      "440  0.026560  0.044529 -0.025930  \n",
      "441 -0.039493 -0.004222  0.003064  \n",
      "\n",
      "[442 rows x 10 columns]\n",
      "0      151.0\n",
      "1       75.0\n",
      "2      141.0\n",
      "3      206.0\n",
      "4      135.0\n",
      "       ...  \n",
      "437    178.0\n",
      "438    104.0\n",
      "439    132.0\n",
      "440    220.0\n",
      "441     57.0\n",
      "Name: target, Length: 442, dtype: float64\n"
     ]
    }
   ],
   "source": [
    "X2, y2 = load_diabetes(return_X_y=True, as_frame=True)\n",
    "X2_train, X2_test, y2_train, y2_test = train_test_split(X2, y2, random_state=0)\n",
    "print(X2, y2, sep='\\n')"
   ]
  },
  {
   "cell_type": "code",
   "execution_count": 27,
   "id": "c4c90f88",
   "metadata": {},
   "outputs": [
    {
     "name": "stdout",
     "output_type": "stream",
     "text": [
      "stacking_accuracy: 0.6481481481481481\n",
      "[5 0 1 4 1 1 0 1 1 1 1 0 1 1 1 5 0 1 0 0 3 0 5 5 0 0 5 0 0 1 0 0 1 0 1 0 0\n",
      " 0 0 5 3 4 1 0 1 1 0 1 0 1 0 4 5 0]\n",
      "\n"
     ]
    }
   ],
   "source": [
    "estimators=[LogisticRegression(random_state=0,max_iter=10000),GradientBoostingClassifier(random_state=0),SVC(probability=True,random_state=0)]\n",
    "estimator=RandomForestClassifier(random_state=0)\n",
    "stacking_clf=Stacking(estimators=estimators,final_estimator=estimator)\n",
    "stacking_pred_res=stacking_clf.fit_predict(X1_train,y1_train,X1_test)\n",
    "stacking_accuracy=accuracy_score(y1_test,stacking_pred_res)\n",
    "print(f'stacking_accuracy: {stacking_accuracy}')\n",
    "print(stacking_pred_res, '', sep='\\n')"
   ]
  },
  {
   "cell_type": "code",
   "execution_count": 28,
   "id": "92371b20",
   "metadata": {},
   "outputs": [
    {
     "name": "stdout",
     "output_type": "stream",
     "text": [
      "blending_accuracy: 0.6481481481481481\n",
      "[5 0 1 4 1 1 0 1 1 1 1 0 1 1 1 5 0 1 0 1 5 1 5 5 1 0 5 0 1 1 0 0 1 0 0 0 0\n",
      " 0 0 5 3 5 1 0 1 1 0 1 0 1 0 4 5 0]\n"
     ]
    }
   ],
   "source": [
    "blending_clf = Stacking(estimators=estimators, final_estimator=estimator, blending=True)\n",
    "blending_pred_res = blending_clf.fit_predict(X1_train, y1_train, X1_test)\n",
    "blending_accuracy = accuracy_score(y1_test, blending_pred_res)\n",
    "print(f'blending_accuracy: {blending_accuracy}')\n",
    "print(blending_pred_res)"
   ]
  },
  {
   "cell_type": "code",
   "execution_count": null,
   "id": "94f6d4b2",
   "metadata": {},
   "outputs": [],
   "source": []
  }
 ],
 "metadata": {
  "kernelspec": {
   "display_name": "myenv",
   "language": "python",
   "name": "python3"
  },
  "language_info": {
   "codemirror_mode": {
    "name": "ipython",
    "version": 3
   },
   "file_extension": ".py",
   "mimetype": "text/x-python",
   "name": "python",
   "nbconvert_exporter": "python",
   "pygments_lexer": "ipython3",
   "version": "3.12.0"
  }
 },
 "nbformat": 4,
 "nbformat_minor": 5
}
