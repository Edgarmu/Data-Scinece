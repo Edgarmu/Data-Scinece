{
 "cells": [
  {
   "cell_type": "code",
   "execution_count": 13,
   "id": "76242659",
   "metadata": {},
   "outputs": [],
   "source": [
    "import numpy as np\n",
    "import pandas as pd\n",
    "from sklearn.model_selection import cross_val_score # Для кросс валидации\n",
    "from sklearn.ensemble import RandomForestClassifier # Случайный лес\n",
    "from sklearn.model_selection import GridSearchCV # Перебор всех комбинаций гиперпараметра\n",
    "from sklearn.metrics import roc_auc_score, make_scorer"
   ]
  },
  {
   "cell_type": "code",
   "execution_count": 2,
   "id": "6e0fb4ba",
   "metadata": {},
   "outputs": [
    {
     "name": "stdout",
     "output_type": "stream",
     "text": [
      "Numeric columns: Index(['Id', 'SepalLengthCm', 'SepalWidthCm', 'PetalLengthCm', 'PetalWidthCm'], dtype='object')\n",
      "Categoric columns: Index(['Species'], dtype='object')\n",
      "\n"
     ]
    }
   ],
   "source": [
    "df=pd.read_csv(\"../kaggle/Iris/Iris.csv\")\n",
    "cat_col=df.select_dtypes(include=\"object\").columns\n",
    "num_col=df.select_dtypes(include=\"number\").columns\n",
    "print(f\"Numeric columns: {num_col}\\nCategoric columns: {cat_col}\\n\")\n",
    "df.drop(columns=['Id'],inplace=True)"
   ]
  },
  {
   "cell_type": "code",
   "execution_count": 4,
   "id": "99a3f9ee",
   "metadata": {},
   "outputs": [
    {
     "data": {
      "text/plain": [
       "Species\n",
       "Iris-setosa        50\n",
       "Iris-versicolor    50\n",
       "Iris-virginica     50\n",
       "Name: count, dtype: int64"
      ]
     },
     "metadata": {},
     "output_type": "display_data"
    }
   ],
   "source": [
    "# df.nunique()\n",
    "# for col in df.columns:\n",
    "display(df.iloc[:,4].value_counts())"
   ]
  },
  {
   "cell_type": "code",
   "execution_count": 5,
   "id": "8cbf5ae0",
   "metadata": {},
   "outputs": [
    {
     "data": {
      "text/plain": [
       "0         Iris-setosa\n",
       "1         Iris-setosa\n",
       "2         Iris-setosa\n",
       "3         Iris-setosa\n",
       "4         Iris-setosa\n",
       "            ...      \n",
       "145    Iris-virginica\n",
       "146    Iris-virginica\n",
       "147    Iris-virginica\n",
       "148    Iris-virginica\n",
       "149    Iris-virginica\n",
       "Name: Species, Length: 150, dtype: object"
      ]
     },
     "execution_count": 5,
     "metadata": {},
     "output_type": "execute_result"
    }
   ],
   "source": [
    "X=df.drop(columns=[\"Species\"],inplace=False)\n",
    "Y=df.iloc[:,4]\n",
    "Y"
   ]
  },
  {
   "cell_type": "markdown",
   "id": "d8be56e7",
   "metadata": {},
   "source": [
    "### Работаем с кросс-валидацией"
   ]
  },
  {
   "cell_type": "code",
   "execution_count": null,
   "id": "2bbee72b",
   "metadata": {},
   "outputs": [
    {
     "name": "stdout",
     "output_type": "stream",
     "text": [
      "0.9466666666666667\n"
     ]
    },
    {
     "data": {
      "text/plain": [
       "'Iris-setosa'"
      ]
     },
     "execution_count": 50,
     "metadata": {},
     "output_type": "execute_result"
    }
   ],
   "source": [
    "model=RandomForestClassifier()\n",
    "scores=cross_val_score(model,X,Y,cv=5)\n",
    "print(scores.mean())\n",
    "model.fit(X,Y)\n",
    "pred_test_data=model.predict_proba(X)\n",
    "# print(pred_test_data)\n",
    "model.predict(X)"
   ]
  },
  {
   "cell_type": "markdown",
   "id": "e2350525",
   "metadata": {},
   "source": [
    "### Работа с GridSearhCV"
   ]
  },
  {
   "cell_type": "code",
   "execution_count": 17,
   "id": "01173e6c",
   "metadata": {},
   "outputs": [
    {
     "name": "stderr",
     "output_type": "stream",
     "text": [
      "/Users/edgar/.venvs/myenv/lib/python3.12/site-packages/sklearn/metrics/_scorer.py:610: FutureWarning: The `needs_threshold` and `needs_proba` parameter are deprecated in version 1.4 and will be removed in 1.6. You can either let `response_method` be `None` or set it to `predict` to preserve the same behaviour.\n",
      "  warnings.warn(\n"
     ]
    },
    {
     "name": "stdout",
     "output_type": "stream",
     "text": [
      "0.9933333333333334 \n",
      "RandomForestClassifier(max_depth=3)\n"
     ]
    }
   ],
   "source": [
    "param_grid = {\n",
    "    'max_depth': [3, 5, 7],\n",
    "    'n_estimators': [100, 200]\n",
    "}\n",
    "scores=make_scorer(roc_auc_score,multi_class='ovo',needs_proba=True)\n",
    "\n",
    "\n",
    "grid = GridSearchCV(RandomForestClassifier(), param_grid, n_jobs=-1,cv=5, scoring=scores)\n",
    "grid.fit(X, Y)\n",
    "print(f\"{grid.best_score_} \\n{grid.best_estimator_}\")"
   ]
  },
  {
   "cell_type": "markdown",
   "id": "b1b5da15",
   "metadata": {},
   "source": [
    "### Stecked generalization\n",
    "**Как происходит**\n",
    "* Разбиение на train/test\n",
    "* Разбиение на k фолдов\n",
    "* Базовая модель на k-1 фолде обучается, на k-ом прогноз\n",
    "* Предыдущие шаги повторяются для каждой базовой модели\n",
    "* Получабтся новые признаки состоящие из предсказаний прошлых моделей + y_train\n",
    "* "
   ]
  },
  {
   "cell_type": "code",
   "execution_count": null,
   "id": "5fa803ec",
   "metadata": {},
   "outputs": [],
   "source": []
  }
 ],
 "metadata": {
  "kernelspec": {
   "display_name": "myenv",
   "language": "python",
   "name": "python3"
  },
  "language_info": {
   "codemirror_mode": {
    "name": "ipython",
    "version": 3
   },
   "file_extension": ".py",
   "mimetype": "text/x-python",
   "name": "python",
   "nbconvert_exporter": "python",
   "pygments_lexer": "ipython3",
   "version": "3.12.0"
  }
 },
 "nbformat": 4,
 "nbformat_minor": 5
}
