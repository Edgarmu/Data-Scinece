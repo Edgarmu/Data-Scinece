{
 "cells": [
  {
   "cell_type": "code",
   "execution_count": 51,
   "id": "76242659",
   "metadata": {},
   "outputs": [],
   "source": [
    "import pandas as pd\n",
    "from sklearn.model_selection import cross_val_score # Для кросс валидации\n",
    "from sklearn.ensemble import RandomForestClassifier # Случайный лес\n",
    "from sklearn.model_selection import GridSearchCV # Перебор всех комбинаций гиперпараметра"
   ]
  },
  {
   "cell_type": "code",
   "execution_count": 26,
   "id": "6e0fb4ba",
   "metadata": {},
   "outputs": [
    {
     "name": "stdout",
     "output_type": "stream",
     "text": [
      "Numeric columns: Index(['Id', 'SepalLengthCm', 'SepalWidthCm', 'PetalLengthCm', 'PetalWidthCm'], dtype='object')\n",
      "Categoric columns: Index(['Species'], dtype='object')\n",
      "\n"
     ]
    }
   ],
   "source": [
    "df=pd.read_csv(\"../kaggle/Iris/Iris.csv\")\n",
    "cat_col=df.select_dtypes(include=\"object\").columns\n",
    "num_col=df.select_dtypes(include=\"number\").columns\n",
    "print(f\"Numeric columns: {num_col}\\nCategoric columns: {cat_col}\\n\")\n",
    "df.drop(columns=['Id'],inplace=True)"
   ]
  },
  {
   "cell_type": "code",
   "execution_count": 36,
   "id": "99a3f9ee",
   "metadata": {},
   "outputs": [
    {
     "data": {
      "text/plain": [
       "Species\n",
       "Iris-setosa        50\n",
       "Iris-versicolor    50\n",
       "Iris-virginica     50\n",
       "Name: count, dtype: int64"
      ]
     },
     "metadata": {},
     "output_type": "display_data"
    }
   ],
   "source": [
    "# df.nunique()\n",
    "# for col in df.columns:\n",
    "display(df.iloc[:,4].value_counts())"
   ]
  },
  {
   "cell_type": "code",
   "execution_count": 40,
   "id": "8cbf5ae0",
   "metadata": {},
   "outputs": [
    {
     "data": {
      "text/plain": [
       "0         Iris-setosa\n",
       "1         Iris-setosa\n",
       "2         Iris-setosa\n",
       "3         Iris-setosa\n",
       "4         Iris-setosa\n",
       "            ...      \n",
       "145    Iris-virginica\n",
       "146    Iris-virginica\n",
       "147    Iris-virginica\n",
       "148    Iris-virginica\n",
       "149    Iris-virginica\n",
       "Name: Species, Length: 150, dtype: object"
      ]
     },
     "execution_count": 40,
     "metadata": {},
     "output_type": "execute_result"
    }
   ],
   "source": [
    "X=df.drop(columns=[\"Species\"],inplace=False)\n",
    "Y=df.iloc[:,4]\n",
    "Y"
   ]
  },
  {
   "cell_type": "markdown",
   "id": "d8be56e7",
   "metadata": {},
   "source": [
    "### Работаем с кросс-валидацией"
   ]
  },
  {
   "cell_type": "code",
   "execution_count": null,
   "id": "2bbee72b",
   "metadata": {},
   "outputs": [
    {
     "name": "stdout",
     "output_type": "stream",
     "text": [
      "0.9466666666666667\n"
     ]
    },
    {
     "data": {
      "text/plain": [
       "'Iris-setosa'"
      ]
     },
     "execution_count": 50,
     "metadata": {},
     "output_type": "execute_result"
    }
   ],
   "source": [
    "model=RandomForestClassifier()\n",
    "scores=cross_val_score(model,X,Y,cv=5)\n",
    "print(scores.mean())\n",
    "model.fit(X,Y)\n",
    "pred_test_data=model.predict_proba(X)\n",
    "# print(pred_test_data)\n",
    "model.predict(X)"
   ]
  },
  {
   "cell_type": "markdown",
   "id": "e2350525",
   "metadata": {},
   "source": [
    "### Работа с GridSearhCV"
   ]
  },
  {
   "cell_type": "code",
   "execution_count": null,
   "id": "01173e6c",
   "metadata": {},
   "outputs": [],
   "source": [
    "param_grid={\n",
    "    \n",
    "}\n",
    "\n",
    "GridSearchCV(RandomForestClassifier(),param_grid,cv=5,scoring='roc_auc')"
   ]
  }
 ],
 "metadata": {
  "kernelspec": {
   "display_name": "myenv",
   "language": "python",
   "name": "python3"
  },
  "language_info": {
   "codemirror_mode": {
    "name": "ipython",
    "version": 3
   },
   "file_extension": ".py",
   "mimetype": "text/x-python",
   "name": "python",
   "nbconvert_exporter": "python",
   "pygments_lexer": "ipython3",
   "version": "3.12.0"
  }
 },
 "nbformat": 4,
 "nbformat_minor": 5
}
